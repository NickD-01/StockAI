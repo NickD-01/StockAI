{
 "cells": [
  {
   "cell_type": "code",
   "execution_count": null,
   "id": "initial_id",
   "metadata": {
    "collapsed": true
   },
   "outputs": [],
   "source": "!pip install yfinance pandas numpy scikit-learn plotly apscheduler"
  },
  {
   "metadata": {},
   "cell_type": "code",
   "outputs": [],
   "execution_count": null,
   "source": [
    "import yfinance as yf\n",
    "import pandas as pd\n",
    "import numpy as np\n",
    "from sklearn.ensemble import RandomForestRegressor\n",
    "from datetime import datetime, timedelta\n",
    "import plotly.graph_objects as go\n",
    "from plotly.subplots import make_subplots\n",
    "import warnings\n",
    "warnings.filterwarnings"
   ],
   "id": "ce9ee74c6ec7358b"
  },
  {
   "metadata": {},
   "cell_type": "code",
   "outputs": [],
   "execution_count": null,
   "source": [
    "def get_stock_data(ticker, period=\"1y\"):\n",
    "    stock = yf.Ticker(ticker)\n",
    "    df = stock.history(period=period)\n",
    "    return df\n",
    "\n",
    "def calculate_technical_indicators(df):\n",
    "    df['SMA_20'] = df['Close'].rolling(window=20).mean()\n",
    "    df['SMA_50'] = df['Close'].rolling(window=50).mean()\n",
    "\n",
    "    delta = df['Close'].diff()\n",
    "    gain = (delta.where(delta > 0, 0)).rolling(window=14).mean()\n",
    "    loss = (-delta.where(delta < 0, 0)).rolling(window=14).mean()\n",
    "    rs = gain / loss\n",
    "    df['RSI'] = 100 - (100 / (1 + rs))\n",
    "\n",
    "    exp1 = df['Close'].ewm(span=12, adjust=False).mean()\n",
    "    exp2 = df['Close'].ewm(span=26, adjust=False).mean()\n",
    "    df['MACD'] = exp1 - exp2\n",
    "    df['Signal_Line'] = df['MACD'].ewm(span=9, adjust=False).mean()\n",
    "\n"
   ],
   "id": "5366e43122554b49"
  },
  {
   "metadata": {},
   "cell_type": "code",
   "outputs": [],
   "execution_count": null,
   "source": [
    "class StockPredictor:\n",
    "    def __init__(self):\n",
    "        self.model = RandomForestRegressor(n_estimators=100, random_state=42)\n",
    "\n",
    "    def prepare_data(self, df):\n",
    "        df = df.copy()\n",
    "\n",
    "        df['Returns'] = df['Close'].pct_change()\n",
    "        df['Volatility'] = df['Returns'].rolling(window=20).std()\n",
    "        df['Price_Range'] = df['High'] - df['Low']\n",
    "        df['Volume_Change'] = df['Volume'].pct_change()\n",
    "\n",
    "        df['Target'] = df['Returns'].shift(-1)\n",
    "        df = df.dropna()\n",
    "\n",
    "        feature_columns = ['Returns', 'Volatility', 'Price_Range', 'Volume_Change',\n",
    "                          'RSI', 'MACD']\n",
    "\n",
    "        return df[feature_columns], df['Target']\n",
    "\n",
    "    def train(self, df):\n",
    "        X, y = self.prepare_data(df)\n",
    "        self.model.fit(X, y)\n",
    "\n",
    "    def predict(self, df):\n",
    "        X, _ = self.prepare_data(df)\n",
    "        return\n",
    "        return self.model.predict(X)\n"
   ],
   "id": "e5f1891c8dfefb16"
  },
  {
   "metadata": {
    "jupyter": {
     "is_executing": true
    }
   },
   "cell_type": "code",
   "source": [
    "def analyze_stock(ticker):\n",
    "    df = get_stock_data(ticker)\n",
    "    df = calculate_technical_indicators(df)\n",
    "\n",
    "    predictor = StockPredictor()\n",
    "    predictor.train(df)\n",
    "\n",
    "    predictions = predictor.predict(df)\n",
    "    df['Predicted_Returns'] = predictions\n",
    "\n",
    "    current_price = df['Close'].iloc[-1]\n",
    "    predicted_return = predictions[-1]\n",
    "    rsi = df['RSI'].iloc[-1]\n",
    "    macd = df['MACD'].iloc[-1]\n",
    "    signal_line = df['Signal_Line'].iloc[-1]\n",
    "\n",
    "    analysis = {\n",
    "        'ticker': ticker,\n",
    "        'current_price': current_price,\n",
    "        'predicted_return': predicted_return,\n",
    "        'rsi': rsi,\n",
    "        'recommendation': 'AANHOUDEN'\n",
    "    }\n",
    "\n",
    "    if predicted_return > 0.02 and rsi < 70 and macd > signal_line:\n",
    "        analysis['recommendation'] = 'KOPEN'\n",
    "    elif predicted_return < -0.02 or rsi > 70 or macd < signal_line:\n",
    "        analysis['recommendation'] = 'VERKOPEN'\n",
    "\n",
    "    return analysis, df"
   ],
   "id": "46c62fa2a105f8b8",
   "outputs": [],
   "execution_count": null
  },
  {
   "metadata": {
    "jupyter": {
     "is_executing": true
    }
   },
   "cell_type": "code",
   "source": [
    "def create_stock_dashboard(ticker, df):\n",
    "    fig = make_subplots(rows=3, cols=1,\n",
    "                        subplot_titles=('Prijs en Voortschrijdende Gemiddelden', 'RSI', 'MACD'),\n",
    "                        vertical_spacing=0.1,\n",
    "                        row_heights=[0.5, 0.25, 0.25])\n",
    "\n",
    "    # Price and Moving Averages\n",
    "    fig.add_trace(go.Candlestick(x=df.index,\n",
    "                                 open=df['Open'],\n",
    "                                 high=df['High'],\n",
    "                                 low=df['Low'],\n",
    "                                 close=df['Close'],\n",
    "                                 name='OHLC'),\n",
    "                  row=1, col=1)\n",
    "\n",
    "    fig.add_trace(go.Scatter(x=df.index, y=df['SMA_20'],\n",
    "                             name='SMA 20', line=dict(color='orange')),\n",
    "                  row=1, col=1)\n",
    "\n",
    "    fig.add_trace(go.Scatter(x=df.index, y=df['SMA_50'],\n",
    "                             name='SMA 50', line=dict(color='blue')),\n",
    "                  row=1, col=1)\n",
    "\n",
    "    # RSI\n",
    "    fig.add_trace(go.Scatter(x=df.index, y=df['RSI'],\n",
    "                             name='RSI', line=dict(color='purple')),\n",
    "                  row=2, col=1)\n",
    "\n",
    "    fig.add_hline(y=70, line_dash=\"dash\", line_color=\"red\", row=2, col=1)\n",
    "    fig.add_hline(y=30, line_dash=\"dash\", line_color=\"green\", row=2, col=1)\n",
    "\n",
    "    # MACD\n",
    "    fig.add_trace(go.Scatter(x=df.index, y=df['MACD'],\n",
    "                             name='MACD', line=dict(color='blue')),\n",
    "                  row=3, col=1)\n",
    "\n",
    "    fig.add_trace(go.Scatter(x=df.index, y=df['Signal_Line'],\n",
    "                             name='Signal Line', line=dict(color='orange')),\n",
    "                  row=3, col=1)\n",
    "\n",
    "    fig.update_layout(\n",
    "        title=f'{ticker} Technische Analyse',\n",
    "        xaxis_title='Datum',\n",
    "        yaxis_title='Prijs',\n",
    "        height=900,\n",
    "        showlegend=True\n",
    "    )\n",
    "\n",
    "    return fig\n"
   ],
   "id": "5c2aeab66c139259",
   "outputs": [],
   "execution_count": null
  },
  {
   "metadata": {},
   "cell_type": "code",
   "outputs": [],
   "execution_count": null,
   "source": [
    "\n",
    "```\n"
   ],
   "id": "a2ec656fd059ff16"
  },
  {
   "metadata": {},
   "cell_type": "code",
   "outputs": [],
   "execution_count": null,
   "source": "",
   "id": "3ef275488b87d5e9"
  }
 ],
 "metadata": {
  "kernelspec": {
   "display_name": "Python 3",
   "language": "python",
   "name": "python3"
  },
  "language_info": {
   "codemirror_mode": {
    "name": "ipython",
    "version": 2
   },
   "file_extension": ".py",
   "mimetype": "text/x-python",
   "name": "python",
   "nbconvert_exporter": "python",
   "pygments_lexer": "ipython2",
   "version": "2.7.6"
  }
 },
 "nbformat": 4,
 "nbformat_minor": 5
}
